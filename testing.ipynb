{
 "cells": [
  {
   "cell_type": "code",
   "execution_count": 1,
   "metadata": {},
   "outputs": [
    {
     "data": {
      "text/plain": [
       "{'class': AST.base.Class,\n",
       " 'function': AST.base.Function,\n",
       " 'NoneType': AST.base.NoneType,\n",
       " 'StopIteration': AST.exceptions.StopIteration,\n",
       " 'bool': AST.logic.Bool,\n",
       " 'int': AST.numerical.Int,\n",
       " 'float': AST.numerical.Float,\n",
       " 'tuple': AST.collection_types.Tuple,\n",
       " 'array': AST.collection_types.Array,\n",
       " 'dict': AST.collection_types.Dictionary,\n",
       " 'string': AST.text.String}"
      ]
     },
     "execution_count": 1,
     "metadata": {},
     "output_type": "execute_result"
    }
   ],
   "source": [
    "import AST.base\n",
    "import AST.statements\n",
    "import AST.exceptions\n",
    "import AST.logic\n",
    "import AST.flow_control\n",
    "import AST.numerical\n",
    "import AST.collection_types\n",
    "import AST.text\n",
    "\n",
    "AST.base.forward_declarations"
   ]
  },
  {
   "cell_type": "code",
   "execution_count": 2,
   "metadata": {},
   "outputs": [
    {
     "data": {
      "text/plain": [
       "10"
      ]
     },
     "execution_count": 2,
     "metadata": {},
     "output_type": "execute_result"
    }
   ],
   "source": [
    "from AST.base import Variable, Assignment, Constant\n",
    "from AST.numerical import Int\n",
    "\n",
    "Assignment(Variable(\"A\"), Constant(Int(10))).eval(())\n",
    "Variable(\"A\").eval(())"
   ]
  },
  {
   "cell_type": "code",
   "execution_count": 7,
   "metadata": {},
   "outputs": [
    {
     "data": {
      "text/plain": [
       "5"
      ]
     },
     "execution_count": 7,
     "metadata": {},
     "output_type": "execute_result"
    }
   ],
   "source": [
    "from AST.base import OperatorCall, Constant\n",
    "from AST.numerical import Int\n",
    "\n",
    "OperatorCall(\"#substract\", [Constant(Int(10)), Constant(Int(5))]).eval(())"
   ]
  },
  {
   "cell_type": "code",
   "execution_count": 4,
   "metadata": {},
   "outputs": [
    {
     "name": "stdout",
     "output_type": "stream",
     "text": [
      "0\n",
      "5\n"
     ]
    }
   ],
   "source": [
    "from AST.base import ConstructorCall, Variable, Assignment, MemberAccess, ClassCreate\n",
    "from AST.base import FunctionCreate, none_class, none_object, Constant, MemberCall\n",
    "from AST.text import String\n",
    "from AST.numerical import Int\n",
    "from AST.collection_types import Dictionary\n",
    "\n",
    "Assignment(\n",
    "    Variable(\"type_x\"),\n",
    "    ClassCreate(\n",
    "        \"type_x\", {\n",
    "            \"constructor\": FunctionCreate(\n",
    "                Assignment(\n",
    "                    MemberAccess(\n",
    "                        Variable(\"this\"), \n",
    "                        \"x\"\n",
    "                    ), \n",
    "                    Constant(Int(0))\n",
    "                ),\n",
    "                []\n",
    "            ),\n",
    "            \"method\": FunctionCreate(\n",
    "                Assignment(\n",
    "                    MemberAccess(\n",
    "                        Variable(\"this\"),\n",
    "                        \"x\"\n",
    "                    ),\n",
    "                    OperatorCall(\n",
    "                        \"#add\", [\n",
    "                            MemberAccess(\n",
    "                                Variable(\"this\"),\n",
    "                                \"x\"\n",
    "                            ),\n",
    "                            Variable(\"arg\")\n",
    "                        ]\n",
    "                    )\n",
    "                ), [\n",
    "                    \"arg\"\n",
    "                ]\n",
    "                )\n",
    "            },\n",
    "        {},\n",
    "        \"NoneType\"\n",
    "    )\n",
    ").eval(())\n",
    "\n",
    "Assignment(\n",
    "    Variable(\"instance\"),\n",
    "    ConstructorCall(\n",
    "        Variable(\"type_x\"),\n",
    "        [],\n",
    "        Constant(none_object)\n",
    "    )\n",
    ").eval(())\n",
    "\n",
    "print(MemberAccess(\n",
    "    Variable(\"instance\"),\n",
    "    \"x\"\n",
    ").eval(()))\n",
    "\n",
    "MemberCall(\n",
    "    Variable(\"instance\"),\n",
    "    \"method\", [\n",
    "        Constant(Int(5))\n",
    "    ],\n",
    "    Constant(none_object)\n",
    ").eval(())\n",
    "\n",
    "print(MemberAccess(Variable(\"instance\"), \"x\").eval(()))"
   ]
  },
  {
   "cell_type": "code",
   "execution_count": 5,
   "metadata": {
    "scrolled": true
   },
   "outputs": [
    {
     "name": "stdout",
     "output_type": "stream",
     "text": [
      "10\n",
      "-20\n"
     ]
    }
   ],
   "source": [
    "from AST.base import Variable, Assignment, Constant\n",
    "from AST.statements import ExprStatement, StatementList\n",
    "from AST.flow_control import WhileStatement\n",
    "from AST.collection_types import ArrayConstant\n",
    "\n",
    "Assignment(\n",
    "    ArrayConstant([\n",
    "        Variable(\"x\"),\n",
    "        Variable(\"y\")\n",
    "    ]),\n",
    "    ArrayConstant([\n",
    "        Constant(Int(0)),\n",
    "        Constant(Int(0))\n",
    "    ])\n",
    ").eval(())\n",
    "WhileStatement(\n",
    "    OperatorCall(\n",
    "        \"#lesser\", [\n",
    "            Variable(\"x\"),\n",
    "            Constant(Int(10))\n",
    "        ]\n",
    "    ),\n",
    "    StatementList([\n",
    "        ExprStatement(Assignment(\n",
    "            Variable(\"x\"),\n",
    "            OperatorCall(\n",
    "                \"#add\", [\n",
    "                    Variable(\"x\"),\n",
    "                    Constant(Int(1))\n",
    "                ]\n",
    "            )\n",
    "        )),\n",
    "        ExprStatement(Assignment(\n",
    "            Variable(\"y\"),\n",
    "            OperatorCall(\n",
    "                \"#substract\", [\n",
    "                    Variable(\"y\"),\n",
    "                    Constant(Int(2))\n",
    "                ]\n",
    "            )\n",
    "        ))\n",
    "    ])\n",
    ").eval(())\n",
    "print(Variable(\"x\").eval(()))\n",
    "print(Variable(\"y\").eval(()))"
   ]
  },
  {
   "cell_type": "code",
   "execution_count": null,
   "metadata": {},
   "outputs": [],
   "source": [
    "\n"
   ]
  }
 ],
 "metadata": {
  "kernelspec": {
   "display_name": "Python 3",
   "language": "python",
   "name": "python3"
  },
  "language_info": {
   "codemirror_mode": {
    "name": "ipython",
    "version": 3
   },
   "file_extension": ".py",
   "mimetype": "text/x-python",
   "name": "python",
   "nbconvert_exporter": "python",
   "pygments_lexer": "ipython3",
   "version": "3.7.5"
  }
 },
 "nbformat": 4,
 "nbformat_minor": 4
}
