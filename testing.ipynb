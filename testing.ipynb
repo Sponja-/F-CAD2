{
 "cells": [
  {
   "cell_type": "code",
   "execution_count": 1,
   "metadata": {},
   "outputs": [],
   "source": [
    "%load_ext autoreload\n",
    "%autoreload 2"
   ]
  },
  {
   "cell_type": "code",
   "execution_count": 2,
   "metadata": {},
   "outputs": [
    {
     "data": {
      "text/plain": [
       "{'class': AST.base.Class,\n",
       " 'function': AST.base.Function,\n",
       " 'NoneType': AST.base.NoneType,\n",
       " 'StopIteration': AST.exceptions.StopIteration,\n",
       " 'bool': AST.logic.Bool,\n",
       " 'int': AST.numerical.Int,\n",
       " 'float': AST.numerical.Float,\n",
       " 'tuple': AST.collection_types.Tuple,\n",
       " 'array': AST.collection_types.Array,\n",
       " 'dict': AST.collection_types.Dictionary,\n",
       " 'string': AST.text.String}"
      ]
     },
     "execution_count": 2,
     "metadata": {},
     "output_type": "execute_result"
    }
   ],
   "source": [
    "import AST.base\n",
    "import AST.statements\n",
    "import AST.exceptions\n",
    "import AST.logic\n",
    "import AST.flow_control\n",
    "import AST.numerical\n",
    "import AST.collection_types\n",
    "import AST.text\n",
    "\n",
    "AST.base.forward_declarations"
   ]
  },
  {
   "cell_type": "code",
   "execution_count": 3,
   "metadata": {},
   "outputs": [
    {
     "data": {
      "text/plain": [
       "10"
      ]
     },
     "execution_count": 3,
     "metadata": {},
     "output_type": "execute_result"
    }
   ],
   "source": [
    "from AST.base import Variable, Assignment, Constant\n",
    "from AST.numerical import Int\n",
    "\n",
    "Assignment(Variable(\"A\"), Constant(Int(10))).eval(())\n",
    "Variable(\"A\").eval(())"
   ]
  },
  {
   "cell_type": "code",
   "execution_count": 3,
   "metadata": {},
   "outputs": [
    {
     "name": "stdout",
     "output_type": "stream",
     "text": [
      "type_x\n"
     ]
    }
   ],
   "source": [
    "from AST.base import ConstructorCall, Variable, Assignment, MemberAccess, ClassCreate\n",
    "from AST.base import FunctionCreate, none_class, none_object, Constant\n",
    "from AST.text import String\n",
    "from AST.numerical import Int\n",
    "from AST.collection_types import Dictionary\n",
    "\n",
    "Assignment(Variable(\"type_x\"), ClassCreate(\"type_x\", {\n",
    "    \"constructor\": FunctionCreate(Assignment(MemberAccess(Variable(\"this\"), \"x\"), Constant(Int(10))), [])\n",
    "}, {}, \"NoneType\")).eval(())\n",
    "\n",
    "Assignment(Variable(\"instance\"), ConstructorCall(Variable(\"type_x\"), [], Constant(none_object))).eval(())\n",
    "MemberAccess(Variable(\"instance\"), \"x\").eval(())"
   ]
  },
  {
   "cell_type": "code",
   "execution_count": null,
   "metadata": {},
   "outputs": [],
   "source": []
  }
 ],
 "metadata": {
  "kernelspec": {
   "display_name": "Python 3",
   "language": "python",
   "name": "python3"
  },
  "language_info": {
   "codemirror_mode": {
    "name": "ipython",
    "version": 3
   },
   "file_extension": ".py",
   "mimetype": "text/x-python",
   "name": "python",
   "nbconvert_exporter": "python",
   "pygments_lexer": "ipython3",
   "version": "3.7.5"
  }
 },
 "nbformat": 4,
 "nbformat_minor": 4
}
